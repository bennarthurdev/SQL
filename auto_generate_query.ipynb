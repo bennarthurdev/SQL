{
  "nbformat": 4,
  "nbformat_minor": 0,
  "metadata": {
    "colab": {
      "provenance": [],
      "authorship_tag": "ABX9TyNiL/5o5+IPgXYlWUsrQkEU",
      "include_colab_link": true
    },
    "kernelspec": {
      "name": "python3",
      "display_name": "Python 3"
    },
    "language_info": {
      "name": "python"
    }
  },
  "cells": [
    {
      "cell_type": "markdown",
      "metadata": {
        "id": "view-in-github",
        "colab_type": "text"
      },
      "source": [
        "<a href=\"https://colab.research.google.com/github/bennarthurdev/SQL/blob/main/auto_generate_query.ipynb\" target=\"_parent\"><img src=\"https://colab.research.google.com/assets/colab-badge.svg\" alt=\"Open In Colab\"/></a>"
      ]
    },
    {
      "cell_type": "code",
      "execution_count": null,
      "metadata": {
        "id": "iX8Xo4felsDU"
      },
      "outputs": [],
      "source": [
        "\n",
        "eja = \" (ta.v8 in ('67', '68', '69' , '70' , '71' , '72' , '73','74') or t.v32 in ('67', '68', '69' , '70' , '71' , '72' , '73','74') ) and t.v31 in ('1','2','3','4')\"\n",
        "\n",
        "\n",
        "def generateDependenciasAdministrativas (etapa_string): \n",
        "    ## Dependências administrativas são definidas por  t.v31 \n",
        "    # As etapas t.31 definem a dependência administrativa por um padrão numérico \n",
        "    dependencias  = ['Federal' , 'Estadual' , 'Municipal' , 'Privada ']\n",
        "    queries_string = list()\n",
        "    for e in range(1,5):\n",
        "        queries_string.append(f''' count (distinct case when ( {etapa_string} AND e.v21 = '{e}' then ta.v7 end ) AS \"{dependencias[e-1]}\" )''')\n",
        "    return (queries_string)\n",
        "\n",
        "\n",
        "Ensino_fundamental = generateDependenciasAdministrativas(\"(ta.v8 in ('73' , '69' , '70' , '72') or t.v32 in ('73' , '69' , '70' , '72')) and t.v31 in ('1','2','3','4')\")\n",
        "\n",
        "for e in Ensino_fundamental:\n",
        "    print(e)"
      ]
    },
    {
      "cell_type": "markdown",
      "source": [
        "# Creating the dict who will store the data of program\n",
        "\n"
      ],
      "metadata": {
        "id": "lf_j5wdFo9Z6"
      }
    },
    {
      "cell_type": "code",
      "source": [
        "data_structure = {\n",
        "    'step_code_data' : list(),\n",
        "    'step_code_formated_string' : str()\n",
        "}"
      ],
      "metadata": {
        "id": "tGIilhjcpJVo"
      },
      "execution_count": 9,
      "outputs": []
    },
    {
      "cell_type": "markdown",
      "source": [
        "# Input \n",
        " - I want to my program read the caracters that represents the \"etapa e modadelidade\" column "
      ],
      "metadata": {
        "id": "ZGT9D0b0mQZJ"
      }
    },
    {
      "cell_type": "code",
      "source": [
        "loop_control = True\n",
        "\n",
        "while loop_control == True:\n",
        "  step_code = input(\"Código da modalidade:\")\n",
        "  \n",
        "  data_structure['step_code_data'].append(step_code)\n",
        "\n",
        "  bool_control = input(\"Continuar ? [Y/N]\")\n",
        "  if bool_control == 'Y':\n",
        "    pass\n",
        "  else:\n",
        "    loop_control = False\n",
        "\n",
        "step_code_data = data_structure['step_code_data']"
      ],
      "metadata": {
        "colab": {
          "base_uri": "https://localhost:8080/"
        },
        "id": "furyqKPVmbTh",
        "outputId": "4b1e24ed-60fa-46c1-ef65-8d3b64b2c907"
      },
      "execution_count": 13,
      "outputs": [
        {
          "name": "stdout",
          "output_type": "stream",
          "text": [
            "Código da modalidade:67\n",
            "Continuar ? [Y/N]Y\n",
            "Código da modalidade:68\n",
            "Continuar ? [Y/N]Y\n",
            "Código da modalidade:69\n",
            "Continuar ? [Y/N]Y\n",
            "Código da modalidade:70\n",
            "Continuar ? [Y/N]Y\n",
            "Código da modalidade:71\n",
            "Continuar ? [Y/N]Y\n",
            "Código da modalidade:72\n",
            "Continuar ? [Y/N]Y\n",
            "Código da modalidade:73\n",
            "Continuar ? [Y/N]Y\n",
            "Código da modalidade:74\n",
            "Continuar ? [Y/N]N\n"
          ]
        },
        {
          "output_type": "execute_result",
          "data": {
            "text/plain": [
              "['30', 'N', '30', '67', '67', '68', '69', '70', '71', '72', '73', '74']"
            ]
          },
          "metadata": {},
          "execution_count": 13
        }
      ]
    },
    {
      "cell_type": "code",
      "source": [],
      "metadata": {
        "colab": {
          "base_uri": "https://localhost:8080/"
        },
        "id": "bivNeKvNtCOh",
        "outputId": "9e62a342-e640-4752-d931-6440c41d71e7"
      },
      "execution_count": 19,
      "outputs": [
        {
          "output_type": "stream",
          "name": "stdout",
          "text": [
            "['67', '68', '69', '70', '71', '72', '73', '74']\n"
          ]
        }
      ]
    },
    {
      "cell_type": "markdown",
      "source": [
        "# **Totais** \n",
        "## **This function return the QUERY string to request the \"total\" for this step**\n",
        "### **rules** \n",
        " - We consider the tables and joins without any ALIAS \n",
        "```\n",
        "# SELECT anything \n",
        "from \"00_2022\" \n",
        "join \"20_2022\" ON \"20_2022\".v2 = \"00_2022\".v2\n",
        "join \"60_2022\" ON \"60_2022\".v6 = \"00_2022\".v4\n",
        "join \"30_2022\"\n",
        "```\n",
        "\n"
      ],
      "metadata": {
        "id": "Qwx3wwizp_C2"
      }
    },
    {
      "cell_type": "code",
      "source": [
        "def generateAllQuery(step_code_data):\n",
        "    ##Generate the tuple\n",
        "    query_str = str() \n",
        "    \n",
        "    for e in range(len(step_code_data)):\n",
        "      if e <= 1:\n",
        "        query_str = \"('\" + step_code_data[e] + \"'\"\n",
        "      if e > 1:\n",
        "        query_str =  query_str + ' , ' +  \"'\" + step_code_data[e] + \"'\"\n",
        "    \n",
        "    query_str = query_str + \")\"\n",
        "    \n",
        "    #generate query \n",
        "\n",
        "    query = 'count (distinct case when (\"60_2022\".V8 IN' +query_str + ' OR \"20_2022\" IN ' + query_str + ') then \"60_2022\".v7 end )\"Total\" ' \n",
        "   \n",
        "    return query\n",
        "print(generateAllQuery(step_code_data))\n"
      ],
      "metadata": {
        "colab": {
          "base_uri": "https://localhost:8080/"
        },
        "id": "kxx90lw0rSV0",
        "outputId": "cb29e8f5-55b3-4927-eba2-ff857f1baa4a"
      },
      "execution_count": 66,
      "outputs": [
        {
          "output_type": "stream",
          "name": "stdout",
          "text": [
            "count (distinct case when (\"60_2022\".V8 IN('68' , '69' , '70' , '71' , '72' , '73' , '74') OR \"20_2022\" IN ('68' , '69' , '70' , '71' , '72' , '73' , '74')) then \"60_2022\".v7 end )\"Total\" \n"
          ]
        }
      ]
    },
    {
      "cell_type": "markdown",
      "source": [
        "##"
      ],
      "metadata": {
        "id": "bodGZXOBpRcW"
      }
    }
  ]
}