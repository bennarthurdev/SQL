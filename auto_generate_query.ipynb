{
  "nbformat": 4,
  "nbformat_minor": 0,
  "metadata": {
    "colab": {
      "provenance": [],
      "authorship_tag": "ABX9TyObf2c2ydGnV8+kP69dyc4/",
      "include_colab_link": true
    },
    "kernelspec": {
      "name": "python3",
      "display_name": "Python 3"
    },
    "language_info": {
      "name": "python"
    }
  },
  "cells": [
    {
      "cell_type": "markdown",
      "metadata": {
        "id": "view-in-github",
        "colab_type": "text"
      },
      "source": [
        "<a href=\"https://colab.research.google.com/github/bennarthurdev/SQL/blob/main/auto_generate_query.ipynb\" target=\"_parent\"><img src=\"https://colab.research.google.com/assets/colab-badge.svg\" alt=\"Open In Colab\"/></a>"
      ]
    },
    {
      "cell_type": "code",
      "execution_count": null,
      "metadata": {
        "id": "iX8Xo4felsDU"
      },
      "outputs": [],
      "source": []
    },
    {
      "cell_type": "markdown",
      "source": [
        "# Creating the dict who will store the data of program\n",
        "\n"
      ],
      "metadata": {
        "id": "lf_j5wdFo9Z6"
      }
    },
    {
      "cell_type": "code",
      "source": [
        "data_structure = {\n",
        "    'step_code_data' : [] ,\n",
        "    'step_code_formated_string' : '' , \n",
        "    'administrative_dependencies' : ['Federal' , 'Estadual' , 'Municipal' , 'Privada']\n",
        "}"
      ],
      "metadata": {
        "id": "tGIilhjcpJVo"
      },
      "execution_count": null,
      "outputs": []
    },
    {
      "cell_type": "markdown",
      "source": [
        "# Input \n",
        " - I want to my program read the caracters that represents the \"etapa e modadelidade\" column "
      ],
      "metadata": {
        "id": "ZGT9D0b0mQZJ"
      }
    },
    {
      "cell_type": "code",
      "source": [
        "def readData():\n",
        "  loop_control = True\n",
        "\n",
        "  while loop_control == True:\n",
        "    step_code = input(\"Código da modalidade:\")\n",
        "    \n",
        "    data_structure['step_code_data'].append(step_code)\n",
        "\n",
        "    bool_control = input(\"Continuar ? [Y/N]\")\n",
        "    if bool_control == 'Y':\n",
        "      pass\n",
        "    else:\n",
        "      loop_control = False\n",
        "\n",
        "  step_code_data = data_structure['step_code_data']\n",
        "  return step_code_data\n",
        "\n",
        "step_code_data = readData()"
      ],
      "metadata": {
        "id": "furyqKPVmbTh"
      },
      "execution_count": null,
      "outputs": []
    },
    {
      "cell_type": "code",
      "source": [],
      "metadata": {
        "colab": {
          "base_uri": "https://localhost:8080/"
        },
        "id": "bivNeKvNtCOh",
        "outputId": "9e62a342-e640-4752-d931-6440c41d71e7"
      },
      "execution_count": null,
      "outputs": [
        {
          "output_type": "stream",
          "name": "stdout",
          "text": [
            "['67', '68', '69', '70', '71', '72', '73', '74']\n"
          ]
        }
      ]
    },
    {
      "cell_type": "markdown",
      "source": [
        "# **Totais** \n",
        "## **This function return the QUERY string to request the \"total\" for this step**\n",
        "### **rules** \n",
        " - We consider the tables and joins without any ALIAS \n",
        "```\n",
        "# SELECT anything \n",
        "from \"00_2022\" \n",
        "join \"20_2022\" ON \"20_2022\".v2 = \"00_2022\".v2\n",
        "join \"60_2022\" ON \"60_2022\".v6 = \"00_2022\".v4\n",
        "join \"30_2022\"\n",
        "```\n",
        "\n"
      ],
      "metadata": {
        "id": "Qwx3wwizp_C2"
      }
    },
    {
      "cell_type": "code",
      "source": [
        "def generateAllQuery(step_code_data):\n",
        "    \n",
        "    ##Generate the tuple\n",
        "    query_str = str() \n",
        "    \n",
        "    for e in range(len(step_code_data)):\n",
        "      if e <= 1:\n",
        "        query_str = \"('\" + step_code_data[e] + \"'\"\n",
        "      if e > 1:\n",
        "        query_str =  query_str + ' , ' +  \"'\" + step_code_data[e] + \"'\"\n",
        "    \n",
        "    query_str = query_str + \")\"\n",
        "    \n",
        "    #generate query \n",
        "\n",
        "    query = 'count (distinct case when (\"60_2022\".V8 IN' +query_str + ' OR \"20_2022\" IN ' + query_str + ') then \"60_2022\".v7 end )\"Total\" ' \n",
        "   \n",
        "    return query\n",
        "print(generateAllQuery(step_code_data))\n"
      ],
      "metadata": {
        "colab": {
          "base_uri": "https://localhost:8080/"
        },
        "id": "kxx90lw0rSV0",
        "outputId": "f887b70f-d02e-4f6c-d172-df041881f708"
      },
      "execution_count": null,
      "outputs": [
        {
          "output_type": "stream",
          "name": "stdout",
          "text": [
            "count (distinct case when (\"60_2022\".V8 IN('68' , '69' , '70' , '71' , '72' , '73' , '74' , '67' , '68' , '69' , '70' , '71' , '72' , '73' , '74') OR \"20_2022\" IN ('68' , '69' , '70' , '71' , '72' , '73' , '74' , '67' , '68' , '69' , '70' , '71' , '72' , '73' , '74')) then \"60_2022\".v7 end )\"Total\" \n"
          ]
        }
      ]
    },
    {
      "cell_type": "markdown",
      "source": [
        "## Dependências Administrativas\n"
      ],
      "metadata": {
        "id": "ErYuOpPT9v00"
      }
    },
    {
      "cell_type": "markdown",
      "source": [
        "## This function receive a total query and returns based on \"Dependências Administrativas\" groups "
      ],
      "metadata": {
        "id": "bodGZXOBpRcW"
      }
    },
    {
      "cell_type": "code",
      "source": [
        "def generateAdministrativeDependencies(dependencias_administrativas = data_structure['administrative_dependencies']):\n",
        "    # First read data again, beacause, mostly of times, this can change for \"Dependências Administrativas\" categories\n",
        "    step_code_data = readData()\n",
        "    # Now use this step_code_data to generate a part of string who we need\n",
        "    part_str = generateAllQuery(step_code_data)\n",
        "    for e in range(len(dependencias_administrativas)):\n",
        "      print(part_str)\n",
        "generateAdministrativeDependencies()"
      ],
      "metadata": {
        "colab": {
          "base_uri": "https://localhost:8080/"
        },
        "id": "TzqqY5Kj9tGD",
        "outputId": "2e6cd792-2995-485c-ce50-8d9bb588675c"
      },
      "execution_count": null,
      "outputs": [
        {
          "output_type": "stream",
          "name": "stdout",
          "text": [
            "Código da modalidade:10\n",
            "Continuar ? [Y/N]N\n",
            "count (distinct case when (\"60_2022\".V8 IN('73' , '69' , '70' , '72' , '50' , '40' , '10') OR \"20_2022\" IN ('73' , '69' , '70' , '72' , '50' , '40' , '10')) then \"60_2022\".v7 end )\"Total\" \n",
            "count (distinct case when (\"60_2022\".V8 IN('73' , '69' , '70' , '72' , '50' , '40' , '10') OR \"20_2022\" IN ('73' , '69' , '70' , '72' , '50' , '40' , '10')) then \"60_2022\".v7 end )\"Total\" \n",
            "count (distinct case when (\"60_2022\".V8 IN('73' , '69' , '70' , '72' , '50' , '40' , '10') OR \"20_2022\" IN ('73' , '69' , '70' , '72' , '50' , '40' , '10')) then \"60_2022\".v7 end )\"Total\" \n",
            "count (distinct case when (\"60_2022\".V8 IN('73' , '69' , '70' , '72' , '50' , '40' , '10') OR \"20_2022\" IN ('73' , '69' , '70' , '72' , '50' , '40' , '10')) then \"60_2022\".v7 end )\"Total\" \n"
          ]
        }
      ]
    }
  ]
}